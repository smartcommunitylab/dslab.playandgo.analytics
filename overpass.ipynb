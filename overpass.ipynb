{
 "cells": [
  {
   "cell_type": "code",
   "execution_count": null,
   "id": "2b267235",
   "metadata": {},
   "outputs": [],
   "source": [
    "#https://overpass-turbo.eu\n",
    "import overpy\n",
    "\n",
    "api = overpy.Overpass()"
   ]
  },
  {
   "cell_type": "code",
   "execution_count": 12,
   "id": "a62b5159",
   "metadata": {},
   "outputs": [
    {
     "name": "stdout",
     "output_type": "stream",
     "text": [
      "<overpy.Result object at 0x000001E2A2DF0770>\n"
     ]
    }
   ],
   "source": [
    "result = api.query(\"\"\"\n",
    "    [out:json];\n",
    "    nwr[\"railway\"=\"rail\"](44.80219,11.660423,44.815496,11.695951);\n",
    "    out geom;\n",
    "    \"\"\")\n",
    "\n",
    "print(f\"{result}\")\n"
   ]
  },
  {
   "cell_type": "code",
   "execution_count": null,
   "id": "045dd789",
   "metadata": {},
   "outputs": [],
   "source": []
  }
 ],
 "metadata": {
  "kernelspec": {
   "display_name": ".venv",
   "language": "python",
   "name": "python3"
  },
  "language_info": {
   "codemirror_mode": {
    "name": "ipython",
    "version": 3
   },
   "file_extension": ".py",
   "mimetype": "text/x-python",
   "name": "python",
   "nbconvert_exporter": "python",
   "pygments_lexer": "ipython3",
   "version": "3.13.4"
  }
 },
 "nbformat": 4,
 "nbformat_minor": 5
}
